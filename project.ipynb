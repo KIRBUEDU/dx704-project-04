{
  "cells": [
    {
      "cell_type": "markdown",
      "metadata": {
        "id": "Md413FzAvFD8"
      },
      "source": [
        "# DX 704 Week 4 Project\n",
        "\n",
        "This week's project will test the learning speed of linear contextual bandits compared to unoptimized approaches.\n",
        "You will start with building a preference data set for evaluation, and then implement different variations of LinUCB and visualize how fast they learn the preferences.\n"
      ]
    },
    {
      "cell_type": "markdown",
      "metadata": {
        "id": "D3gs-tquuzJe"
      },
      "source": [
        "The full project description, a template notebook and supporting code are available on GitHub: [Project 4 Materials](https://github.com/bu-cds-dx704/dx704-project-04).\n"
      ]
    },
    {
      "cell_type": "markdown",
      "metadata": {
        "id": "OguIjc5idW3Z"
      },
      "source": [
        "## Example Code\n",
        "\n",
        "You may find it helpful to refer to these GitHub repositories of Jupyter notebooks for example code.\n",
        "\n",
        "* https://github.com/bu-cds-omds/dx601-examples\n",
        "* https://github.com/bu-cds-omds/dx602-examples\n",
        "* https://github.com/bu-cds-omds/dx603-examples\n",
        "* https://github.com/bu-cds-omds/dx704-examples\n",
        "\n",
        "Any calculations demonstrated in code examples or videos may be found in these notebooks, and you are allowed to copy this example code in your homework answers."
      ]
    },
    {
      "cell_type": "markdown",
      "metadata": {
        "id": "C8oSLkMqvMFF"
      },
      "source": [
        "## Part 1: Collect Rating Data\n",
        "\n",
        "The file \"recipes.tsv\" in this repository has information about 100 recipes.\n",
        "Make a new file \"ratings.tsv\" with two columns, recipe_slug (from recipes.tsv) and rating.\n",
        "Populate the rating column with values between 0 and 1 where 0 is the worst and 1 is the best.\n",
        "You can assign these ratings however you want within that range, but try to make it reflect a consistent set of preferences.\n",
        "These could be your preferences, or a persona of your choosing (e.g. chocolate lover, bacon-obsessed, or sweet tooth).\n",
        "Make sure that there are at least 10 ratings of zero and at least 10 ratings of one.\n"
      ]
    },
    {
      "cell_type": "markdown",
      "metadata": {
        "id": "kAwViBgKfWER"
      },
      "source": [
        "Hint: You may find it more convenient to assign raw ratings from 1 to 5 and then remap them as follows.\n",
        "\n",
        "`ratings[\"rating\"] = (ratings[\"rating_raw\"] - 1) * 0.25`"
      ]
    },
    {
      "cell_type": "markdown",
      "metadata": {
        "id": "Eh7UaX6OvuWo"
      },
      "source": [
        "Submit \"ratings.tsv\" in Gradescope."
      ]
    },
    {
      "cell_type": "code",
      "execution_count": 1,
      "metadata": {},
      "outputs": [
        {
          "name": "stderr",
          "output_type": "stream",
          "text": [
            "/tmp/ipykernel_5284/3371007521.py:7: UserWarning: This pattern is interpreted as a regular expression, and has match groups. To actually get the groups, use str.extract.\n",
            "  pos2 = text.str.contains(r\"\\b(chocolate|cocoa|brownie|cookie|cake|dessert|ice cream)\\b\")\n",
            "/tmp/ipykernel_5284/3371007521.py:8: UserWarning: This pattern is interpreted as a regular expression, and has match groups. To actually get the groups, use str.extract.\n",
            "  pos1 = text.str_contains = text.str.contains(r\"\\b(bacon|cheese|butter|cream|caramel|chicken)\\b\")\n",
            "/tmp/ipykernel_5284/3371007521.py:9: UserWarning: This pattern is interpreted as a regular expression, and has match groups. To actually get the groups, use str.extract.\n",
            "  neg2 = text.str.contains(r\"\\b(tofu|tempeh|kale|quinoa|lentil)\\b\")\n",
            "/tmp/ipykernel_5284/3371007521.py:10: UserWarning: This pattern is interpreted as a regular expression, and has match groups. To actually get the groups, use str.extract.\n",
            "  neg1 = text.str.contains(r\"\\b(vegan|salad|raw)\\b\")\n"
          ]
        }
      ],
      "source": [
        "import pandas as pd, numpy as np\n",
        "\n",
        "recipes = pd.read_csv(\"recipes.tsv\", sep=\"\\t\", dtype=str).fillna(\"\")\n",
        "text = recipes.apply(lambda r: \" \".join(r.values).lower(), axis=1)\n",
        "\n",
        "rating_raw = np.full(len(recipes), 3.0)\n",
        "pos2 = text.str.contains(r\"\\b(chocolate|cocoa|brownie|cookie|cake|dessert|ice cream)\\b\")\n",
        "pos1 = text.str_contains = text.str.contains(r\"\\b(bacon|cheese|butter|cream|caramel|chicken)\\b\")\n",
        "neg2 = text.str.contains(r\"\\b(tofu|tempeh|kale|quinoa|lentil)\\b\")\n",
        "neg1 = text.str.contains(r\"\\b(vegan|salad|raw)\\b\")\n",
        "\n",
        "rating_raw += 2*pos2.astype(int) + 1*pos1.astype(int) - 2*neg2.astype(int) - 1*neg1.astype(int)\n",
        "rating_raw = np.clip(rating_raw, 1, 5)\n",
        "\n",
        "ratings = pd.DataFrame({\"recipe_slug\": recipes[\"recipe_slug\"].astype(str)})\n",
        "ratings[\"rating\"] = (rating_raw - 1.0) * 0.25  # 1->0.0, 5->1.0\n",
        "\n",
        "z = (ratings[\"rating\"] == 0.0).sum()\n",
        "if z < 10:\n",
        "    idx = ratings.sort_values(\"rating\").query(\"rating > 0\").head(10 - z).index\n",
        "    ratings.loc[idx, \"rating\"] = 0.0\n",
        "\n",
        "o = (ratings[\"rating\"] == 1.0).sum()\n",
        "if o < 10:\n",
        "    idx = ratings.sort_values(\"rating\", ascending=False).query(\"rating < 1\").head(10 - o).index\n",
        "    ratings.loc[idx, \"rating\"] = 1.0\n",
        "\n",
        "\n",
        "with open(\"ratings.tsv\", \"w\", newline=\"\") as f:\n",
        "    ratings.to_csv(f, sep=\"\\t\", index=False)\n"
      ]
    },
    {
      "cell_type": "markdown",
      "metadata": {
        "id": "NiCwaZwr5M67"
      },
      "source": [
        "## Part 2: Construct Model Input\n",
        "\n",
        "Use your file \"ratings.tsv\" combined with \"recipe-tags.tsv\" to create a new file \"features.tsv\" with a column recipe_slug, a column bias which is hard-coded to one, and a column for each tag that appears in \"recipe-tags.tsv\".\n",
        "The tag column in this file should be a 0-1 encoding of the recipe tags for each recipe.\n",
        "[Pandas reshaping function methods](https://pandas.pydata.org/docs/user_guide/reshaping.html) may be helpful."
      ]
    },
    {
      "cell_type": "markdown",
      "metadata": {
        "id": "8WWi_JJXocEb"
      },
      "source": [
        "The bias column will make later LinUCB calculations easier since it will just be another dimension."
      ]
    },
    {
      "cell_type": "markdown",
      "metadata": {
        "id": "MHR-BsD9539j"
      },
      "source": [
        "Hint: For later modeling steps, it will be important to have the feature data (inputs) and the rating data (target outputs) in the same order.\n",
        "It is highly recommended to make sure that \"features.tsv\" and \"ratings.tsv\" have the recipe slugs in the same order."
      ]
    },
    {
      "cell_type": "code",
      "execution_count": 2,
      "metadata": {
        "id": "cGvj258d8nnv"
      },
      "outputs": [],
      "source": [
        "# YOUR CHANGES HERE\n",
        "\n",
        "import pandas as pd\n",
        "\n",
        "ratings = pd.read_csv(\"ratings.tsv\", sep=\"\\t\", dtype={\"recipe_slug\": str})\n",
        "rt = pd.read_csv(\"recipe-tags.tsv\", sep=\"\\t\", dtype=str)\n",
        "\n",
        "if \"recipe_slug\" not in rt.columns or \"tag\" not in rt.columns:\n",
        "    rt = rt.rename(columns={rt.columns[0]: \"recipe_slug\", rt.columns[1]: \"tag\"})\n",
        "\n",
        "tag_matrix = pd.crosstab(rt[\"recipe_slug\"], rt[\"tag\"]).clip(upper=1).astype(\"int8\")\n",
        "\n",
        "tag_matrix = tag_matrix.reindex(ratings[\"recipe_slug\"], fill_value=0)\n",
        "\n",
        "features = pd.DataFrame({\n",
        "    \"recipe_slug\": ratings[\"recipe_slug\"],\n",
        "    \"bias\": 1\n",
        "}).join(tag_matrix)\n",
        "\n",
        "\n",
        "\n",
        "with open(\"features.tsv\", \"w\", newline=\"\", encoding=\"utf-8\") as f:\n",
        "    features.to_csv(f, sep=\"\\t\", index=False)\n"
      ]
    },
    {
      "cell_type": "markdown",
      "metadata": {
        "id": "w63ji-Oi6oH7"
      },
      "source": [
        "Submit \"features.tsv\" in Gradescope."
      ]
    },
    {
      "cell_type": "markdown",
      "metadata": {
        "id": "4TeXvznlwJzo"
      },
      "source": [
        "## Part 3: Linear Preference Model\n",
        "\n",
        "Use your feature and rating files to build a ridge regression model with ridge regression's regularization parameter $\\alpha$ set to 1.\n"
      ]
    },
    {
      "cell_type": "markdown",
      "metadata": {
        "id": "aVlUnVv4oDIk"
      },
      "source": [
        "Hint: If you are using scikit-learn modeling classes, you should use `fit_intercept=False` since that intercept value will be redundant with the bias coefficient."
      ]
    },
    {
      "cell_type": "markdown",
      "metadata": {
        "id": "NLrBu-z7A45W"
      },
      "source": [
        "Hint: The estimate component of the bounds should match the previous estimate, so you should be able to just focus on the variance component of the bounds now."
      ]
    },
    {
      "cell_type": "markdown",
      "metadata": {
        "id": "fw9LaHF_8tsA"
      },
      "source": [
        "Save the coefficients of this model in a file \"model.tsv\" with columns \"recipe_tag\" and \"coefficient\".\n",
        "Do not add anything for the `intercept_` attribute of a scikit-learn model; this will be covered by the coefficient for the bias column added in part 2."
      ]
    },
    {
      "cell_type": "markdown",
      "metadata": {
        "id": "86uS_zZ0wQxC"
      },
      "source": [
        "Submit \"model.tsv\" in Gradescope."
      ]
    },
    {
      "cell_type": "code",
      "execution_count": null,
      "metadata": {},
      "outputs": [
        {
          "name": "stdout",
          "output_type": "stream",
          "text": [
            "Wrote model.tsv with 297 rows.\n"
          ]
        }
      ],
      "source": [
        "import pandas as pd\n",
        "import numpy as np\n",
        "from sklearn.linear_model import Ridge\n",
        "\n",
        "ratings  = pd.read_csv(\"ratings.tsv\",  sep=\"\\t\", dtype={\"recipe_slug\": str})\n",
        "features = pd.read_csv(\"features.tsv\", sep=\"\\t\", dtype={\"recipe_slug\": str})\n",
        "\n",
        "features = features.set_index(\"recipe_slug\").reindex(ratings[\"recipe_slug\"])\n",
        "\n",
        "features = features.apply(pd.to_numeric, errors=\"coerce\").fillna(0.0)\n",
        "if \"bias\" in features.columns:\n",
        "    features[\"bias\"] = 1.0\n",
        "else:\n",
        "    features.insert(0, \"bias\", 1.0)\n",
        "\n",
        "X = features.values.astype(np.float32)\n",
        "y = ratings[\"rating\"].values.astype(np.float32)\n",
        "\n",
        "alpha = 1.0\n",
        "model = Ridge(alpha=alpha, fit_intercept=False)\n",
        "model.fit(X, y)\n",
        "\n",
        "feature_cols = features.columns.tolist()             \n",
        "coef = np.asarray(model.coef_).ravel()               \n",
        "\n",
        "df = pd.DataFrame({\"recipe_tag\": feature_cols, \"coefficient\": coef})\n",
        "with open(\"model.tsv\", \"w\", newline=\"\", encoding=\"utf-8\") as f:\n",
        "    df.to_csv(f, sep=\"\\t\", index=False)\n",
        "\n",
        "print(f\"Wrote model.tsv with {len(feature_cols)} rows.\")\n"
      ]
    },
    {
      "cell_type": "markdown",
      "metadata": {
        "id": "B1Nfs7zCsDpj"
      },
      "source": [
        "## Part 4: Recipe Estimates\n",
        "\n",
        "Use the recipe model to estimate the score of every recipe.\n",
        "Save these estimates to a file \"estimates.tsv\" with columns recipe_slug and score_estimate."
      ]
    },
    {
      "cell_type": "code",
      "execution_count": null,
      "metadata": {
        "id": "pIClPwYVso5a"
      },
      "outputs": [
        {
          "name": "stdout",
          "output_type": "stream",
          "text": [
            "Wrote estimates.tsv with 100 rows.\n"
          ]
        }
      ],
      "source": [
        "# YOUR CHANGES HERE\n",
        "\n",
        "\n",
        "import pandas as pd\n",
        "import numpy as np\n",
        "\n",
        "ratings  = pd.read_csv(\"ratings.tsv\",  sep=\"\\t\", dtype={\"recipe_slug\": str})\n",
        "features = pd.read_csv(\"features.tsv\", sep=\"\\t\", dtype={\"recipe_slug\": str}).set_index(\"recipe_slug\")\n",
        "model_df = pd.read_csv(\"model.tsv\",    sep=\"\\t\")  \n",
        "\n",
        "features = features.apply(pd.to_numeric, errors=\"coerce\").fillna(0.0)\n",
        "if \"bias\" in features.columns:\n",
        "    features[\"bias\"] = 1.0\n",
        "else:\n",
        "    features.insert(0, \"bias\", 1.0)\n",
        "\n",
        "cols = model_df[\"recipe_tag\"].tolist()\n",
        "for c in cols:\n",
        "    if c not in features.columns:\n",
        "        features[c] = 0.0\n",
        "\n",
        "X = features.reindex(columns=cols).reindex(ratings[\"recipe_slug\"]).values.astype(np.float32)\n",
        "coef = model_df[\"coefficient\"].to_numpy(dtype=np.float32)\n",
        "\n",
        "score_estimate = X @ coef\n",
        "\n",
        "est_df = pd.DataFrame({\"recipe_slug\": ratings[\"recipe_slug\"], \"score_estimate\": score_estimate})\n",
        "with open(\"estimates.tsv\", \"w\", newline=\"\", encoding=\"utf-8\") as f:\n",
        "    est_df.to_csv(f, sep=\"\\t\", index=False)\n",
        "\n",
        "print(f\"Wrote estimates.tsv with {len(est_df)} rows.\")\n"
      ]
    },
    {
      "cell_type": "markdown",
      "metadata": {
        "id": "i5t3uSE_srMA"
      },
      "source": [
        "Submit \"estimates.tsv\" in Gradescope."
      ]
    },
    {
      "cell_type": "markdown",
      "metadata": {
        "id": "yTBplNhRst8q"
      },
      "source": [
        "## Part 5: LinUCB Bounds\n",
        "\n",
        "Calculate the upper bounds of LinUCB using data corresponding to trying every recipe once and receiving the rating in \"ratings.tsv\" as the reward.\n",
        "Keep the ridge regression regularization parameter at 1, and set LinUCB's $\\alpha$ parameter to 2.\n",
        "Save these upper bounds to a file \"bounds.tsv\" with columns recipe_slug and score_bound."
      ]
    },
    {
      "cell_type": "code",
      "execution_count": null,
      "metadata": {
        "id": "kY7aWD_PuP0W"
      },
      "outputs": [
        {
          "name": "stdout",
          "output_type": "stream",
          "text": [
            "Wrote bounds.tsv with 100 rows.\n"
          ]
        }
      ],
      "source": [
        "# YOUR CHANGES HERE\n",
        "\n",
        "\n",
        "\n",
        "import pandas as pd\n",
        "import numpy as np\n",
        "\n",
        "ratings  = pd.read_csv(\"ratings.tsv\",  sep=\"\\t\", dtype={\"recipe_slug\": str})\n",
        "features = pd.read_csv(\"features.tsv\", sep=\"\\t\", dtype={\"recipe_slug\": str}).set_index(\"recipe_slug\")\n",
        "\n",
        "features = features.apply(pd.to_numeric, errors=\"coerce\").fillna(0.0)\n",
        "if \"bias\" in features.columns:\n",
        "    features[\"bias\"] = 1.0\n",
        "else:\n",
        "    features.insert(0, \"bias\", 1.0)\n",
        "\n",
        "X = features.reindex(ratings[\"recipe_slug\"]).values.astype(np.float64)   \n",
        "y = ratings[\"rating\"].to_numpy(dtype=np.float64)                         \n",
        "\n",
        "lam = 1.0     \n",
        "alpha = 2.0   \n",
        "\n",
        "A = X.T @ X + lam * np.eye(X.shape[1], dtype=X.dtype)   \n",
        "b = X.T @ y                                             \n",
        "\n",
        "theta = np.linalg.solve(A, b)                           \n",
        "\n",
        "estimate = X @ theta                                    \n",
        "\n",
        "Z = np.linalg.solve(A, X.T)                             \n",
        "var_component = np.sqrt(np.sum(X * Z.T, axis=1))        \n",
        "\n",
        "score_bound = estimate + alpha * var_component          \n",
        "\n",
        "out = pd.DataFrame({\"recipe_slug\": ratings[\"recipe_slug\"], \"score_bound\": score_bound})\n",
        "with open(\"bounds.tsv\", \"w\", newline=\"\", encoding=\"utf-8\") as f:\n",
        "    out.to_csv(f, sep=\"\\t\", index=False)\n",
        "\n",
        "print(f\"Wrote bounds.tsv with {len(out)} rows.\")\n"
      ]
    },
    {
      "cell_type": "markdown",
      "metadata": {
        "id": "ZQ4RPppFvG-S"
      },
      "source": [
        "Submit \"bounds.tsv\" in Gradescope."
      ]
    },
    {
      "cell_type": "markdown",
      "metadata": {
        "id": "AfazOSWlwYsP"
      },
      "source": [
        "## Part 6: Make Online Recommendations\n",
        "\n",
        "Implement LinUCB to make 100 recommendations starting with no data and using the same parameters as in part 5.\n",
        "One recommendation should be made at a time and you can break ties arbitrarily.\n",
        "After each recommendation, use the rating from part 1 as the reward to update the LinUCB data.\n",
        "Record the recommendations made in a file \"recommendations.tsv\" with columns \"recipe_slug\", \"score_bound\", and \"reward\".\n",
        "The rows in this file should be in the same order as the recommendations were made."
      ]
    },
    {
      "cell_type": "code",
      "execution_count": 9,
      "metadata": {
        "id": "hQ7r45B7wm4v"
      },
      "outputs": [
        {
          "name": "stdout",
          "output_type": "stream",
          "text": [
            "Wrote bounds.tsv with 100 rows.\n"
          ]
        }
      ],
      "source": [
        "# YOUR CHANGES HERE\n",
        "\n",
        "\n",
        "\n",
        "import pandas as pd\n",
        "import numpy as np\n",
        "\n",
        "ratings  = pd.read_csv(\"ratings.tsv\",  sep=\"\\t\", dtype={\"recipe_slug\": str})\n",
        "features = pd.read_csv(\"features.tsv\", sep=\"\\t\", dtype={\"recipe_slug\": str}).set_index(\"recipe_slug\")\n",
        "\n",
        "features = features.apply(pd.to_numeric, errors=\"coerce\").fillna(0.0)\n",
        "if \"bias\" in features.columns:\n",
        "    features[\"bias\"] = 1.0\n",
        "else:\n",
        "    features.insert(0, \"bias\", 1.0)\n",
        "\n",
        "X = features.reindex(ratings[\"recipe_slug\"]).values.astype(np.float64)   \n",
        "y = ratings[\"rating\"].to_numpy(dtype=np.float64)                         \n",
        "lam = 1.0     \n",
        "alpha = 2.0   \n",
        "\n",
        "A = X.T @ X + lam * np.eye(X.shape[1], dtype=X.dtype)   \n",
        "b = X.T @ y                                             \n",
        "\n",
        "theta = np.linalg.solve(A, b)                           \n",
        "\n",
        "estimate = X @ theta                                    \n",
        "\n",
        "Z = np.linalg.solve(A, X.T)                             \n",
        "var_component = np.sqrt(np.sum(X * Z.T, axis=1))        \n",
        "\n",
        "score_bound = estimate + alpha * var_component          \n",
        "\n",
        "out = pd.DataFrame({\"recipe_slug\": ratings[\"recipe_slug\"], \"score_bound\": score_bound})\n",
        "with open(\"bounds.tsv\", \"w\", newline=\"\", encoding=\"utf-8\") as f:\n",
        "    out.to_csv(f, sep=\"\\t\", index=False)\n",
        "\n",
        "print(f\"Wrote bounds.tsv with {len(out)} rows.\")\n"
      ]
    },
    {
      "cell_type": "markdown",
      "metadata": {
        "id": "23jv0cD0woSt"
      },
      "source": [
        "Submit \"recommendations.tsv\" in Gradescope."
      ]
    },
    {
      "cell_type": "markdown",
      "metadata": {
        "id": "zi8lV2pbvWMs"
      },
      "source": [
        "## Part 7: Acknowledgments\n",
        "\n",
        "Make a file \"acknowledgments.txt\" documenting any outside sources or help on this project.\n",
        "If you discussed this assignment with anyone, please acknowledge them here.\n",
        "If you used any libraries not mentioned in this module's content, please list them with a brief explanation what you used them for.\n",
        "If you used any generative AI tools, please add links to your transcripts below, and any other information that you feel is necessary to comply with the generative AI policy.\n",
        "If no acknowledgements are appropriate, just write none in the file.\n"
      ]
    },
    {
      "cell_type": "markdown",
      "metadata": {
        "id": "SuNJe62UxCoH"
      },
      "source": [
        "Submit \"acknowledgments.txt\" in Gradescope."
      ]
    },
    {
      "cell_type": "code",
      "execution_count": 10,
      "metadata": {},
      "outputs": [
        {
          "name": "stdout",
          "output_type": "stream",
          "text": [
            "Saved acknowledgments to: /workspaces/dx704-project-04/acknowledgments.txt\n"
          ]
        }
      ],
      "source": [
        "from pathlib import Path\n",
        "\n",
        "ACK_FILE = Path(\"acknowledgments.txt\")\n",
        "ACK_TEXT = \"My dad helped me with this\"\n",
        "\n",
        "def main():\n",
        "    ACK_FILE.write_text(ACK_TEXT)\n",
        "    print(f\"Saved acknowledgments to: {ACK_FILE.resolve()}\")\n",
        "\n",
        "if __name__ == \"__main__\":\n",
        "    main()"
      ]
    },
    {
      "cell_type": "markdown",
      "metadata": {
        "id": "smsTLuFcvR-I"
      },
      "source": [
        "## Part 8: Code\n",
        "\n",
        "Please submit a Jupyter notebook that can reproduce all your calculations and recreate the previously submitted files.\n"
      ]
    },
    {
      "cell_type": "markdown",
      "metadata": {
        "id": "3cgzHyF7wxpr"
      },
      "source": [
        "Submit \"project.ipynb\" in Gradescope."
      ]
    }
  ],
  "metadata": {
    "colab": {
      "toc_visible": false
    },
    "kernelspec": {
      "display_name": "Python 3",
      "name": "python3"
    },
    "language_info": {
      "codemirror_mode": {
        "name": "ipython",
        "version": 3
      },
      "file_extension": ".py",
      "mimetype": "text/x-python",
      "name": "python",
      "nbconvert_exporter": "python",
      "pygments_lexer": "ipython3",
      "version": "3.12.1"
    }
  },
  "nbformat": 4,
  "nbformat_minor": 0
}
